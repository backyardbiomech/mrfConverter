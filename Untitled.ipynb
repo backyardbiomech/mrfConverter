{
 "cells": [
  {
   "cell_type": "code",
   "execution_count": 1,
   "metadata": {},
   "outputs": [
    {
     "name": "stderr",
     "output_type": "stream",
     "text": [
      "In /Users/jacksonbe3/opt/miniconda3/envs/argus/lib/python3.6/site-packages/matplotlib/mpl-data/stylelib/_classic_test.mplstyle: \n",
      "The text.latex.preview rcparam was deprecated in Matplotlib 3.3 and will be removed two minor releases later.\n",
      "In /Users/jacksonbe3/opt/miniconda3/envs/argus/lib/python3.6/site-packages/matplotlib/mpl-data/stylelib/_classic_test.mplstyle: \n",
      "The mathtext.fallback_to_cm rcparam was deprecated in Matplotlib 3.3 and will be removed two minor releases later.\n",
      "In /Users/jacksonbe3/opt/miniconda3/envs/argus/lib/python3.6/site-packages/matplotlib/mpl-data/stylelib/_classic_test.mplstyle: Support for setting the 'mathtext.fallback_to_cm' rcParam is deprecated since 3.3 and will be removed two minor releases later; use 'mathtext.fallback : 'cm' instead.\n",
      "In /Users/jacksonbe3/opt/miniconda3/envs/argus/lib/python3.6/site-packages/matplotlib/mpl-data/stylelib/_classic_test.mplstyle: \n",
      "The validate_bool_maybe_none function was deprecated in Matplotlib 3.3 and will be removed two minor releases later.\n",
      "In /Users/jacksonbe3/opt/miniconda3/envs/argus/lib/python3.6/site-packages/matplotlib/mpl-data/stylelib/_classic_test.mplstyle: \n",
      "The savefig.jpeg_quality rcparam was deprecated in Matplotlib 3.3 and will be removed two minor releases later.\n",
      "In /Users/jacksonbe3/opt/miniconda3/envs/argus/lib/python3.6/site-packages/matplotlib/mpl-data/stylelib/_classic_test.mplstyle: \n",
      "The keymap.all_axes rcparam was deprecated in Matplotlib 3.3 and will be removed two minor releases later.\n",
      "In /Users/jacksonbe3/opt/miniconda3/envs/argus/lib/python3.6/site-packages/matplotlib/mpl-data/stylelib/_classic_test.mplstyle: \n",
      "The animation.avconv_path rcparam was deprecated in Matplotlib 3.3 and will be removed two minor releases later.\n",
      "In /Users/jacksonbe3/opt/miniconda3/envs/argus/lib/python3.6/site-packages/matplotlib/mpl-data/stylelib/_classic_test.mplstyle: \n",
      "The animation.avconv_args rcparam was deprecated in Matplotlib 3.3 and will be removed two minor releases later.\n"
     ]
    }
   ],
   "source": [
    "import numpy as np\n",
    "import cv2\n",
    "import matplotlib.pyplot as plt\n",
    "%matplotlib inline\n",
    "from pathlib import Path\n",
    "import subprocess"
   ]
  },
  {
   "cell_type": "code",
   "execution_count": 14,
   "metadata": {},
   "outputs": [],
   "source": [
    "#reads info from mrf file header https://media.idtvision.com/docs/manuals/mstudio_man_en.pdf\n",
    "def mrfInfo(fpath):\n",
    "    dt = ['S1', 'int32','int32','int32','int32','int32','int32','int32','int32', 'int32',np.ushort, np.ushort, 'int32', 'int32']\n",
    "    chunks = [8,1,1,1,1,1,1,1,1,1,1,1,59,1]\n",
    "    names = ['header', 'blank1', 'headerPad', 'numFrames', 'width', 'height', 'bitDepth', 'nCams', 'blank2', 'blank3', 'nBayer', 'nCFAPattern', 'userdata', 'frameRate']\n",
    "    info ={}\n",
    "    with open(fpath, 'rb') as f:\n",
    "        for n, d, c in zip(names, dt, chunks):\n",
    "            info[n] = np.fromfile(f, count=c, dtype = d)\n",
    "    f.close()\n",
    "    return(info)"
   ]
  },
  {
   "cell_type": "code",
   "execution_count": 13,
   "metadata": {},
   "outputs": [],
   "source": [
    "# reads video one frame at a time\n",
    "def mrfRead(fpath, frameNum):\n",
    "    #get info\n",
    "    info=mrfInfo(fpath)\n",
    "    if info['bitDepth'] >8 and info['bitDepth']<17: # bit depth probably 10, just confirm\n",
    "        bpp=16\n",
    "        nDim=1\n",
    "    # offset is the location of the start of the target frame in the file:\n",
    "    # the pad + 8bits for each frame + the size of all of the prior frames\n",
    "    offset = int(info['headerPad']) + (frameNum) * (info['height'] * info['width'] * bpp / 8)\n",
    "    # read the image data\n",
    "    with open(fpath, 'rb') as f:\n",
    "        idata = np.fromfile(f, count=int(info['height']*info['width']), offset=offset, dtype='uint16')\n",
    "    f.close()\n",
    "    #shift away the bottom 2 bits\n",
    "    idata = np.right_shift(idata, 2)\n",
    "    idata = idata.astype(np.uint8)\n",
    "    #the data come in as a 1 dimensional array; here we\n",
    "    #reshape them to a 2-dimensional array of the appropriate size\n",
    "    idata=np.reshape(idata, (int(info['height']), int(info['width'])))\n",
    "    return idata"
   ]
  },
  {
   "cell_type": "code",
   "execution_count": 22,
   "metadata": {},
   "outputs": [],
   "source": [
    "# read video and output as image stack to be converted with ffmpeg\n",
    "def cvtMrf(fpath, extractframes=True, savevid=True, crf=1):\n",
    "    # to use extracted frames, set extractframes=False\n",
    "    # to not save a new video, set savevid=False\n",
    "    # crf is an int (1-51) for video compression (1 ~ lossless, 21 ~ very good compression with little visual loss)\n",
    "    fp = Path(fpath)\n",
    "    newdir=fp.parent / fp.stem\n",
    "    newdir.mkdir(exist_ok=True)\n",
    "    # get info\n",
    "    info=mrfInfo(fp)\n",
    "    nframes = int(info['numFrames'])\n",
    "    if extractframes:\n",
    "        for i in range(nframes):\n",
    "            print(\"converting frame {} of {}\".format(i, nframes))\n",
    "            idata = mrfRead(fpath, i)\n",
    "            idata=cv2.cvtColor(idata, cv2.COLOR_GRAY2RGB)\n",
    "            iname = newdir / \"frame{:05d}.tiff\".format(i)\n",
    "        cv2.imwrite(str(iname), idata)\n",
    "    if savevid:\n",
    "        print(\"converting tiffs to mp4\")\n",
    "        # convert to vid with ffmpeg\n",
    "        \n",
    "        istr = str(newdir / 'frame%05d.tiff')\n",
    "        ostr = str(newdir) + '_c{}.mp4'.format(crf)\n",
    "        cmd = 'ffmpeg -i \"{}\" -crf {} -c:v libx264 -vf fps=30 -pix_fmt yuv420p \"{}\"'.format(istr, crf, ostr)\n",
    "        print(cmd)\n",
    "        subprocess.call(cmd,shell=True)"
   ]
  },
  {
   "cell_type": "code",
   "execution_count": 21,
   "metadata": {
    "scrolled": true
   },
   "outputs": [
    {
     "name": "stdout",
     "output_type": "stream",
     "text": [
      "converting tiffs to mp4\n",
      "ffmpeg -i \"/Users/jacksonbe3/repos/mrfConverter/Red/frame%05d.tiff\" -crf 21 -c:v libx264 -vf fps=30 -pix_fmt yuv420p \"/Users/jacksonbe3/repos/mrfConverter/Red_c21.mp4\"\n"
     ]
    }
   ],
   "source": [
    "cvtMrf(\"/Users/jacksonbe3/repos/mrfConverter/Red.mrf\", extractframes=False, savevid=True, crf=21)"
   ]
  }
 ],
 "metadata": {
  "kernelspec": {
   "display_name": "Python 3",
   "language": "python",
   "name": "python3"
  },
  "language_info": {
   "codemirror_mode": {
    "name": "ipython",
    "version": 3
   },
   "file_extension": ".py",
   "mimetype": "text/x-python",
   "name": "python",
   "nbconvert_exporter": "python",
   "pygments_lexer": "ipython3",
   "version": "3.6.2"
  }
 },
 "nbformat": 4,
 "nbformat_minor": 4
}
