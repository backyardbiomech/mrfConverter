{
 "cells": [
  {
   "cell_type": "code",
   "execution_count": 49,
   "metadata": {},
   "outputs": [],
   "source": [
    "import numpy as np\n",
    "import cv2\n",
    "import matplotlib.pyplot as plt\n",
    "%matplotlib inline\n",
    "from pathlib import Path\n",
    "import subprocess\n",
    "import bz2\n",
    "import shutil"
   ]
  },
  {
   "cell_type": "code",
   "execution_count": 53,
   "outputs": [],
   "source": [
    "fname = Path('/Users/jacksonbe3/repos/mrfConverter/Red.mrf.bz2')\n",
    "with bz2.BZ2File(fname) as fr, open(\"/Users/jacksonbe3/repos/mrfConverter/Red2.mrf\", \"wb+\") as fw:\n",
    "    shutil.copyfileobj(fr,fw, length=100000000) #100 MB chunks"
   ],
   "metadata": {
    "collapsed": false,
    "pycharm": {
     "name": "#%%\n"
    }
   }
  },
  {
   "cell_type": "code",
   "execution_count": 48,
   "outputs": [
    {
     "name": "stdout",
     "output_type": "stream",
     "text": [
      "b'IDT-MRF\\x00\\x00\\x00\\x00\\x00\\x14\\x01\\x00\\x00\\xdb\\x01\\x00\\x00 \\t\\x00\\x00\\xc0\\x06\\x00\\x00\\n\\x00\\x00\\x00\\x00\\x00\\x00\\x00\\x00\\x00\\x00\\x00\\x00\\x00\\x00\\x00\\x00\\x00\\x00\\x00\\x01\\x00\\x00\\x00\\x00\\x00\\x00\\x00\\x00\\x00\\x00\\x00\\x00\\x00\\x00\\x00\\x00\\x00\\x00\\x00\\x00\\x00\\x00\\x00\\x00\\x00\\x00\\x00\\x00\\x00\\x00\\x00\\x00\\x00\\x00\\x00\\x00\\x00\\x00\\x00\\x00\\x00\\x00\\x00\\x00\\x00\\x00\\x00\\x00\\x00\\x00\\x00\\x00\\x00\\x00\\x00\\x00\\x00\\x00\\x00\\x00\\x00\\x00\\x00\\x00\\x00\\x00\\x00\\x00\\x00\\x00\\x00\\x00\\x00\\x00\\x00\\x00\\x00\\x00\\x00\\x00\\x00\\x00\\x00\\x00\\x00\\x00\\x00\\x00\\x00\\x00\\x00\\x00\\x00\\x00\\x00\\x00\\x00\\x00\\x00\\x00\\x00\\x00\\x00\\x00\\x00\\x00\\x00\\x00\\x00\\x00\\x00\\x00\\x00\\x00\\x00\\x00\\x00\\x00\\x00\\x00\\x00\\x00\\x00\\x00\\x00\\x00\\x00\\x00\\x00\\x00\\x00\\x00\\x00\\x00\\x00\\x00\\x00\\x00\\x00\\x00\\x00\\x00\\x00\\x00\\x00\\x00\\x00\\x00\\x00\\x00\\x00\\x00\\x00\\x00\\x00\\x00\\x00\\x00\\x00\\x00\\x00\\x00\\x00\\x00\\x00\\x00\\x00\\x00\\x00\\x00\\x00\\x00\\x00\\x00\\x00\\x00\\x00\\x00\\x00\\x00\\x00\\x00\\x00\\x00\\x00\\x00\\x00\\x00\\x00\\x00\\x00\\x00\\x00\\x00\\x00\\x00\\x00\\x00\\x00\\x00\\x00\\x00\\x00\\x00\\x00\\x00\\x00\\x00\\x00\\x00\\x00\\x00\\x00\\x00\\x00\\x00\\x00\\x00\\x00\\x00\\x00\\x00\\x00\\x00\\x00\\x00\\x00\\x00\\x00\\x00\\x00\\x00\\x00\\x00\\x00 N\\x00\\x00@\\x00M\\x00@\\x00M\\x006\\x00O\\x00@\\x00<\\x00<\\x00@\\x00;\\x00G\\x000\\x00@\\x00<\\x00L\\x009\\x00L\\x00B\\x00G\\x00B\\x00M\\x00B\\x00B\\x006\\x00B\\x00;\\x00F\\x00?\\x00F\\x00;\\x00@\\x00?\\x00L\\x00J\\x00T\\x00L\\x00L\\x00L\\x00S\\x00L\\x00c\\x00R\\x00R\\x00O\\x00W\\x00P\\x00d\\x00\\\\\\x00d\\x00O\\x00\\\\\\x00Y\\x00d\\x00c\\x00g\\x00L\\x00g\\x00c\\x00g\\x00n\\x00x\\x00i\\x00n\\x00c\\x00p\\x00]\\x00a\\x00i\\x00m\\x00c\\x00c\\x00]\\x00g\\x00i\\x00i\\x00a\\x00j\\x00V\\x00d\\x00T\\x00a\\x00Y\\x00i\\x00Y\\x00j\\x00n\\x00m\\x00n\\x00z\\x00q\\x00{\\x00\\x81\\x00\\x8e\\x00\\x87\\x00\\x87\\x00\\x87\\x00\\x81\\x00z\\x00\\x85\\x00\\x85\\x00\\x97\\x00\\x80\\x00\\x80\\x00\\x8d\\x00\\x8b\\x00\\x8b\\x00\\x85\\x00\\x84\\x00\\x81\\x00~\\x00\\x80\\x00z\\x00\\x85\\x00\\x85\\x00\\x92\\x00\\x92\\x00\\x9e\\x00\\x84\\x00\\x84\\x00\\x80\\x00\\x80\\x00\\x8d\\x00\\x85\\x00\\x91\\x00\\x98\\x00\\x85\\x00\\x92\\x00\\x8d\\x00\\x8d\\x00\\x91\\x00\\x8d\\x00\\x85\\x00\\x91\\x00\\x8b\\x00~\\x00\\x80\\x00\\x87\\x00t\\x00\\x8a\\x00\\x92\\x00\\x9c\\x00\\x9b\\x00\\x9b\\x00\\x8f\\x00\\x98\\x00\\x97\\x00\\x91\\x00\\x81\\x00\\x98\\x00\\x8b\\x00\\x92\\x00\\x88\\x00\\x8b\\x00\\x95\\x00\\x9c\\x00\\x9c\\x00\\x9b\\x00\\x9c\\x00\\xae\\x00\\xa5\\x00\\x9c\\x00\\x8b\\x00\\x98\\x00\\x92\\x00\\x97\\x00\\x8d\\x00\\x9c\\x00\\x91\\x00\\x9e\\x00\\x91\\x00\\x97\\x00\\x9f\\x00\\xa4\\x00\\x97\\x00\\x9c\\x00\\x8e\\x00\\xb1\\x00\\xa6\\x00\\xae\\x00\\x97\\x00\\x9c\\x00\\x8e\\x00\\x98\\x00\\x9c\\x00\\xac\\x00\\xa2\\x00\\xac\\x00\\x9f\\x00\\xb3\\x00\\x9c\\x00\\x9c\\x00\\x8d\\x00\\x98\\x00\\x9c\\x00\\xa9\\x00\\x91\\x00\\x97\\x00\\x91\\x00\\x9c\\x00\\x97\\x00\\x97\\x00\\x98\\x00\\x91\\x00\\x97\\x00\\xae\\x00\\x9c\\x00\\x9c\\x00\\x84\\x00\\x9a\\x00\\x8b\\x00\\x97\\x00\\x91\\x00\\x95\\x00\\x8d\\x00\\x92\\x00\\x92\\x00\\x98\\x00\\x92\\x00\\x9e\\x00\\x98\\x00\\xc2\\x00\\xb6\\x00\\xc0\\x00\\xbf\\x00\\xbf\\x00\\xbe\\x00\\x95\\x00\\x91\\x00\\x95\\x00\\x8b\\x00\\x8b\\x00~\\x00\\x8f\\x00\\x8b\\x00\\x97\\x00\\x8e\\x00\\xa8\\x00\\x8f\\x00\\x8d\\x00\\x8d\\x00\\x8b\\x00\\x8d\\x00\\x91\\x00\\x8b\\x00\\xa2\\x00\\x95\\x00\\xa2\\x00\\x9c\\x00\\x9e\\x00\\xa4\\x00\\x8f\\x00\\x8d\\x00\\x8d\\x00\\x80\\x00\\x87\\x00\\x87\\x00\\x97\\x00\\x8e\\x00\\x91\\x00\\x8b\\x00\\x95\\x00\\x91\\x00\\x98\\x00\\x8b\\x00\\xa2\\x00\\x8f\\x00\\x97\\x00\\x84\\x00\\x8d\\x00{\\x00\\x80\\x00z\\x00\\x80\\x00q\\x00v\\x00\\x80\\x00\\x8a\\x00\\x81\\x00\\x8b\\x00\\x8f\\x00\\x85\\x00\\x80\\x00\\x87\\x00\\x87\\x00\\x8f\\x00t\\x00\\x87\\x00t\\x00\\x88\\x00\\x81\\x00\\x87\\x00\\x80\\x00\\x8b\\x00\\x82\\x00\\x87\\x00\\x87\\x00\\x8d\\x00\\x80\\x00\\x85\\x00\\x82\\x00\\x85\\x00\\x85\\x00\\x85\\x00\\x8a\\x00\\x85\\x00\\x8d\\x00\\x91\\x00\\x88\\x00\\x8d\\x00\\x88\\x00\\x8d\\x00\\x8d\\x00\\x85\\x00\\x8a\\x00\\x80\\x00\\x8b\\x00\\x92\\x00\\x8b\\x00{\\x00t\\x00~\\x00i\\x00s\\x00c\\x00d\\x00V\\x00_\\x00W\\x00R\\x00Z\\x00Z\\x00]\\x00]\\x00W\\x00W\\x00W\\x00Y\\x00S\\x00W\\x00W\\x00R\\x00L\\x00W\\x00J\\x00T\\x00C\\x00M\\x00V\\x00R\\x00E\\x00R\\x00C\\x00M\\x00L\\x00M\\x00'\n",
      "{'header': array([b'I', b'D', b'T', b'-', b'M', b'R', b'F', b''], dtype='|S1'), 'blank1': array([0], dtype=int32), 'headerPad': array([276], dtype=int32), 'numFrames': array([475], dtype=int32), 'width': array([2336], dtype=int32), 'height': array([1728], dtype=int32), 'bitDepth': array([10], dtype=int32), 'nCams': array([0], dtype=int32), 'blank2': array([0], dtype=int32), 'blank3': array([0], dtype=int32), 'nBayer': array([0], dtype=uint16), 'nCFAPattern': array([0], dtype=uint16), 'userdata': array([         0,          0,          0,          0,          0,\n",
      "                0,          0,          0,          0,          0,\n",
      "                0,          0,          0,          0,          0,\n",
      "                0,          0,          0,          0,          0,\n",
      "                0,          0,          0,          0,          0,\n",
      "                0,          0,          0,          0,          0,\n",
      "                0,          0,          0,          0,          0,\n",
      "                0,          0,          0,          0,          0,\n",
      "                0,          0,          0,          0,          0,\n",
      "                0,          0,          0,          0,          0,\n",
      "                0,          0,          0,          0,          0,\n",
      "                0,          0,          0, 1310720000], dtype=int32), 'frameRate': array([0], dtype=int32)}\n"
     ]
    }
   ],
   "source": [
    "dt=['S1', 'int32', 'int32', 'int32', 'int32', 'int32', 'int32', 'int32', 'int32', 'int32', np.ushort, np.ushort,\n",
    "          'int32', 'int32']\n",
    "chunks = [8, 1, 1, 1, 1, 1, 1, 1, 1, 1, 1, 1, 59, 1]\n",
    "names = ['header', 'blank1', 'headerPad', 'numFrames', 'width', 'height', 'bitDepth', 'nCams', 'blank2', 'blank3',\n",
    "             'nBayer', 'nCFAPattern', 'userdata', 'frameRate']\n",
    "offsets = [0, 8, 12, 16, 20, 24, 28, 32, 36, 40, 44, 46, 50, 100]\n",
    "dfile = bz2.BZ2File('/Users/jacksonbe3/repos/mrfConverter/Red.mrf.bz2', mode='rb').read(1000)\n",
    "info={}\n",
    "for n, d, c, o in zip(names, dt, chunks, offsets):\n",
    "    info[n] = np.frombuffer(dfile, count=c, dtype=d, offset=o)\n",
    "print(info)\n",
    "#\n",
    "# return info"
   ],
   "metadata": {
    "collapsed": false,
    "pycharm": {
     "name": "#%%\n"
    }
   }
  },
  {
   "cell_type": "code",
   "execution_count": 14,
   "metadata": {},
   "outputs": [],
   "source": [
    "#reads info from mrf file header https://media.idtvision.com/docs/manuals/mstudio_man_en.pdf\n",
    "def mrfInfo(fpath):\n",
    "    dt = ['S1', 'int32','int32','int32','int32','int32','int32','int32','int32', 'int32',np.ushort, np.ushort, 'int32', 'int32']\n",
    "    chunks = [8,1,1,1,1,1,1,1,1,1,1,1,59,1]\n",
    "    names = ['header', 'blank1', 'headerPad', 'numFrames', 'width', 'height', 'bitDepth', 'nCams', 'blank2', 'blank3', 'nBayer', 'nCFAPattern', 'userdata', 'frameRate']\n",
    "    info ={}\n",
    "    if fpath.suffix == '.mrf':\n",
    "        with open(fpath, 'rb') as f:\n",
    "            for n, d, c in zip(names, dt, chunks):\n",
    "                info[n] = np.fromfile(f, count=c, dtype = d)\n",
    "    if fpath.suffix == '.bz2':\n",
    "        print('HERE!!!')\n",
    "        with bz2.open(fpath, 'rb') as f:\n",
    "            for n, d, c in zip(names, dt, chunks):\n",
    "                info[n] = np.fromfile(f, count=c, dtype = d)\n",
    "    f.close()\n",
    "    return(info)"
   ]
  },
  {
   "cell_type": "code",
   "execution_count": 13,
   "metadata": {},
   "outputs": [],
   "source": [
    "# reads video one frame at a time\n",
    "def mrfRead(fpath, frameNum):\n",
    "    #get info\n",
    "    info=mrfInfo(fpath)\n",
    "    if info['bitDepth'] >8 and info['bitDepth']<17: # bit depth probably 10, just confirm\n",
    "        bpp=16\n",
    "        nDim=1\n",
    "    # offset is the location of the start of the target frame in the file:\n",
    "    # the pad + 8bits for each frame + the size of all of the prior frames\n",
    "    offset = int(info['headerPad']) + (frameNum) * (info['height'] * info['width'] * bpp / 8)\n",
    "    # read the image data\n",
    "    with open(fpath, 'rb') as f:\n",
    "        idata = np.fromfile(f, count=int(info['height']*info['width']), offset=offset, dtype='uint16')\n",
    "    f.close()\n",
    "    #shift away the bottom 2 bits\n",
    "    idata = np.right_shift(idata, 2)\n",
    "    idata = idata.astype(np.uint8)\n",
    "    #the data come in as a 1 dimensional array; here we\n",
    "    #reshape them to a 2-dimensional array of the appropriate size\n",
    "    idata=np.reshape(idata, (int(info['height']), int(info['width'])))\n",
    "    return idata"
   ]
  },
  {
   "cell_type": "code",
   "execution_count": 22,
   "metadata": {},
   "outputs": [],
   "source": [
    "# read video and output as image stack to be converted with ffmpeg\n",
    "def cvtMrf(fpath, extractframes=True, savevid=True, crf=1):\n",
    "    # to use extracted frames, set extractframes=False\n",
    "    # to not save a new video, set savevid=False\n",
    "    # crf is an int (1-51) for video compression (1 ~ lossless, 21 ~ very good compression with little visual loss)\n",
    "    fp = Path(fpath)\n",
    "    newdir=fp.parent / fp.stem\n",
    "    newdir.mkdir(exist_ok=True)\n",
    "    # get info\n",
    "    info=mrfInfo(fp)\n",
    "    nframes = int(info['numFrames'])\n",
    "    if extractframes:\n",
    "        for i in range(nframes):\n",
    "            print(\"converting frame {} of {}\".format(i, nframes))\n",
    "            idata = mrfRead(fpath, i)\n",
    "            idata=cv2.cvtColor(idata, cv2.COLOR_GRAY2RGB)\n",
    "            iname = newdir / \"frame{:05d}.tiff\".format(i)\n",
    "        cv2.imwrite(str(iname), idata)\n",
    "    if savevid:\n",
    "        print(\"converting tiffs to mp4\")\n",
    "        # convert to vid with ffmpeg\n",
    "        \n",
    "        istr = str(newdir / 'frame%05d.tiff')\n",
    "        ostr = str(newdir) + '_c{}.mp4'.format(crf)\n",
    "        cmd = 'ffmpeg -i \"{}\" -crf {} -c:v libx264 -vf fps=30 -pix_fmt yuv420p \"{}\"'.format(istr, crf, ostr)\n",
    "        print(cmd)\n",
    "        subprocess.call(cmd,shell=True)"
   ]
  },
  {
   "cell_type": "code",
   "execution_count": 21,
   "metadata": {
    "scrolled": true
   },
   "outputs": [
    {
     "name": "stdout",
     "output_type": "stream",
     "text": [
      "converting tiffs to mp4\n",
      "ffmpeg -i \"/Users/jacksonbe3/repos/mrfConverter/Red/frame%05d.tiff\" -crf 21 -c:v libx264 -vf fps=30 -pix_fmt yuv420p \"/Users/jacksonbe3/repos/mrfConverter/Red_c21.mp4\"\n"
     ]
    }
   ],
   "source": [
    "cvtMrf(\"/Users/jacksonbe3/repos/mrfConverter/Red.mrf\", extractframes=False, savevid=True, crf=21)"
   ]
  }
 ],
 "metadata": {
  "kernelspec": {
   "display_name": "Python 3",
   "language": "python",
   "name": "python3"
  },
  "language_info": {
   "codemirror_mode": {
    "name": "ipython",
    "version": 3
   },
   "file_extension": ".py",
   "mimetype": "text/x-python",
   "name": "python",
   "nbconvert_exporter": "python",
   "pygments_lexer": "ipython3",
   "version": "3.6.2"
  }
 },
 "nbformat": 4,
 "nbformat_minor": 4
}