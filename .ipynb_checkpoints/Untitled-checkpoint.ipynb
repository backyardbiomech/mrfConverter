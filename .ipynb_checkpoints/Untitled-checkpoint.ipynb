{
 "cells": [
  {
   "cell_type": "code",
   "execution_count": 28,
   "metadata": {},
   "outputs": [],
   "source": [
    "import numpy as np\n",
    "import cv2\n",
    "import matplotlib.pyplot as plt\n",
    "%matplotlib inline\n",
    "from pathlib import Path\n",
    "import subprocess"
   ]
  },
  {
   "cell_type": "code",
   "execution_count": 4,
   "metadata": {},
   "outputs": [],
   "source": [
    "def mrfInfo(fpath):\n",
    "    dt = ['S1', 'int32','int32','int32','int32','int32','int32','int32','int32', 'int32',np.ushort, np.ushort, 'int32', 'int32']\n",
    "    chunks = [8,1,1,1,1,1,1,1,1,1,1,1,59,1]\n",
    "    names = ['header', 'blank1', 'headerPad', 'numFrames', 'width', 'height', 'bitDepth', 'nCams', 'blank2', 'blank3', 'nBayer', 'nCFAPattern', 'userdata', 'frameRate']\n",
    "    info ={}\n",
    "    with open(fpath, 'rb') as f:\n",
    "        for n, d, c in zip(names, dt, chunks):\n",
    "            info[n] = np.fromfile(f, count=c, dtype = d)\n",
    "    f.close()\n",
    "    return(info)"
   ]
  },
  {
   "cell_type": "code",
   "execution_count": 17,
   "metadata": {},
   "outputs": [],
   "source": [
    "def mrfRead(fpath, frameNum):\n",
    "    #get info\n",
    "    info=mrfInfo(fpath)\n",
    "    if info['bitDepth'] >8 and info['bitDepth']<17:\n",
    "        bpp=16\n",
    "        nDim=1\n",
    "    # offset is the location of the start of the target frame in the file:\n",
    "    # the pad + 8bits for each frame + the size of all of the prior frames\n",
    "    offset = int(info['headerPad']) + (frameNum) * (info['height'] * info['width'] * bpp / 8)\n",
    "    # read the image data\n",
    "    with open(fpath, 'rb') as f:\n",
    "        idata = np.fromfile(f, count=int(info['height']*info['width']), offset=offset, dtype='uint16')\n",
    "    f.close()\n",
    "    #shift away the bottom 2 bits\n",
    "    idata = np.right_shift(idata, 2)\n",
    "    idata = idata.astype(np.uint8)\n",
    "    #the data come in as a 1 dimensional array; here we\n",
    "    #reshape them to a 2-dimensional array of the appropriate size\n",
    "    idata=np.reshape(idata, (int(info['height']), int(info['width'])))\n",
    "    return idata"
   ]
  },
  {
   "cell_type": "code",
   "execution_count": 31,
   "metadata": {},
   "outputs": [],
   "source": [
    "# read video and output as image stack to be converted with ffmpeg\n",
    "def cvtMrf(fpath):\n",
    "    fp = Path(fpath)\n",
    "    newdir=fp.parent / fp.stem\n",
    "    newdir.mkdir(exist_ok=True)\n",
    "    # get info\n",
    "    info=mrfInfo(fp)\n",
    "    nframes = int(info['numFrames'])\n",
    "    for i in range(nframes):\n",
    "        print(i)\n",
    "        idata = mrfRead(fpath, i)\n",
    "        idata=cv2.cvtColor(idata, cv2.COLOR_GRAY2RGB)\n",
    "        iname = newdir / \"frame{:05d}.tiff\".format(i)\n",
    "        cv2.imwrite(str(iname), idata)\n",
    "    # conver to vid with ffmpeg\n",
    "    istr = str(newdir / 'frame%05d.tiff')\n",
    "    ostr = str(newdir) + '.mp4'\n",
    "    cmd = 'ffmpeg {} -c:v libx264 -vf fps=30 -pix_fmt yuv420p {}'.format(istr, ostr)\n",
    "    print(cmd)\n",
    "    subprocess.call(cmd,shell=True)"
   ]
  },
  {
   "cell_type": "code",
   "execution_count": 34,
   "metadata": {},
   "outputs": [
    {
     "name": "stdout",
     "output_type": "stream",
     "text": [
      "ffmpeg -i /Users/jacksonbe3/repos/mrfConverter/Red/frame%05d.tiff -c:v libx264 -vf fps=30 -pix_fmt yuv420p /Users/jacksonbe3/repos/mrfConverter/Red.mp4\n"
     ]
    },
    {
     "data": {
      "text/plain": [
       "1"
      ]
     },
     "execution_count": 34,
     "metadata": {},
     "output_type": "execute_result"
    }
   ],
   "source": [
    "fp = Path(\"/Users/jacksonbe3/repos/mrfConverter/Red.mrf\")\n",
    "newdir=fp.parent / fp.stem\n",
    "istr = str(newdir / 'frame%05d.tiff')\n",
    "ostr = str(newdir) + '.mp4'\n",
    "cmd = 'ffmpeg -i \"{}\" -c:v libx264 -vf fps=30 -pix_fmt yuv420p \"{}\"'.format(istr, ostr)\n",
    "print(cmd)\n",
    "subprocess.call(cmd,shell=True)"
   ]
  },
  {
   "cell_type": "code",
   "execution_count": 30,
   "metadata": {},
   "outputs": [
    {
     "name": "stdout",
     "output_type": "stream",
     "text": [
      "0\n",
      "1\n",
      "2\n",
      "3\n",
      "4\n",
      "5\n",
      "6\n",
      "7\n",
      "8\n",
      "9\n",
      "10\n",
      "11\n",
      "12\n",
      "13\n",
      "14\n",
      "15\n",
      "16\n",
      "17\n",
      "18\n",
      "19\n",
      "20\n",
      "21\n",
      "22\n",
      "23\n",
      "24\n",
      "25\n",
      "26\n",
      "27\n",
      "28\n",
      "29\n",
      "30\n",
      "31\n",
      "32\n",
      "33\n",
      "34\n",
      "35\n",
      "36\n",
      "37\n",
      "38\n",
      "39\n",
      "40\n",
      "41\n",
      "42\n",
      "43\n",
      "44\n",
      "45\n",
      "46\n",
      "47\n",
      "48\n",
      "49\n",
      "50\n",
      "51\n",
      "52\n",
      "53\n",
      "54\n",
      "55\n",
      "56\n",
      "57\n",
      "58\n",
      "59\n",
      "60\n",
      "61\n",
      "62\n",
      "63\n",
      "64\n",
      "65\n",
      "66\n",
      "67\n",
      "68\n",
      "69\n",
      "70\n"
     ]
    }
   ],
   "source": [
    "cvtMrf(\"/Users/jacksonbe3/repos/mrfConverter/Red.mrf\")"
   ]
  },
  {
   "cell_type": "code",
   "execution_count": 302,
   "metadata": {},
   "outputs": [
    {
     "data": {
      "text/plain": [
       "'Red'"
      ]
     },
     "execution_count": 302,
     "metadata": {},
     "output_type": "execute_result"
    }
   ],
   "source": [
    "fp = Path(\"/Users/jacksonbe3/repos/mrfConverter/Red.mrf\")\n",
    "fp.stem"
   ]
  }
 ],
 "metadata": {
  "kernelspec": {
   "display_name": "Python 3",
   "language": "python",
   "name": "python3"
  },
  "language_info": {
   "codemirror_mode": {
    "name": "ipython",
    "version": 3
   },
   "file_extension": ".py",
   "mimetype": "text/x-python",
   "name": "python",
   "nbconvert_exporter": "python",
   "pygments_lexer": "ipython3",
   "version": "3.6.2"
  }
 },
 "nbformat": 4,
 "nbformat_minor": 4
}
